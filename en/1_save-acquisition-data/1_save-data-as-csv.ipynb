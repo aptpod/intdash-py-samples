{
 "cells": [
  {
   "cell_type": "markdown",
   "metadata": {},
   "source": [
    "# 1. Retrieve time series data and save as CSV"
   ]
  },
  {
   "cell_type": "markdown",
   "metadata": {},
   "source": [
    "In this sample, we will focus on the following methods:\n",
    "\n",
    "- Register signal definitions(\\*) for general sensor data that convert binary data into numerical values.\n",
    "- Retrieve data using registered signal definitions\n",
    "- Convert the time series data to `pandas.DataFrame` and save it as a CSV file\n",
    "\n",
    "```\n",
    "A signal definition defines the process of cutting out a part of data formatted in binary format and reading it as value data such as numerical value and character string.\n",
    "This process is done on the server side. See the intdash.Conversion derived class documentation for conversion types\n",
    "(https://docs.intdash.jp/sdk/python/latest/en/signals.html#intdash.Conversion)\n",
    "```"
   ]
  },
  {
   "cell_type": "markdown",
   "metadata": {},
   "source": [
    "## Scenario\n",
    "In this scenario, a time series data uploaded from iOS application **intdash Motion** is used. The data will be downloaded and saved in CSV format in your local storage."
   ]
  },
  {
   "cell_type": "markdown",
   "metadata": {},
   "source": [
    "## Preparation\n",
    "Before starting this scenario, prepare the following.\n",
    "\n",
    "- An edge that performs measurement\n",
    "- A measurement uploaded with intdash Motion on iPhone (which contains general sensor data)\n",
    "- Signal definitions for general sensor data"
   ]
  },
  {
   "cell_type": "markdown",
   "metadata": {},
   "source": [
    "\n",
    "### Data to be used\n",
    "In this scenario, the following data needs to be prepared on the server side.\n",
    "\n",
    "| Data item | Data name that appears in this scenario |\n",
    "|:---|:---|\n",
    "| Edge to register time series data | sdk_edge1|\n",
    "| Signal definitions(\\*) | `sp_ACCX`, `sp_ACCY`, `sp_ACCZ`|\n",
    "\n",
    "(\\*) In this scenario, use the signal definition that converts the acceleration data of the smartphone to floating point values. For the registration method, check the following procedure."
   ]
  },
  {
   "cell_type": "markdown",
   "metadata": {},
   "source": [
    "### Create measurement data and upload time series data\n",
    "Upload the data using **intdash Motion**. After registering the measurement, use **Visual M2M Data Visualizer** to check that the new measurement has been created."
   ]
  },
  {
   "cell_type": "markdown",
   "metadata": {},
   "source": [
    "### (Note) Operation of intdash Motion in this scenario\n",
    "1. Start intdash Motion on iPhone and sign in as `sdk_edge1`.\n",
    "2. Enable Settings > Sensors, then enable Stream to Server and Save to Server.\n",
    "3. Return to the Main screen and tap ▶ in the center of the screen.\n",
    "4. Confirm that the measurement is started\n",
    "5. Tap ■ to end the measurement"
   ]
  },
  {
   "cell_type": "markdown",
   "metadata": {},
   "source": [
    "Confirm that the new measurement is displayed in \"Stored Data\" of Visual M2M Data Visualizer.\n",
    "Follow the procedure below to retrieve the time series data of this measurement and save it in CSV format.\n",
    "\n",
    "<img src=\"https://github.com/aptpod/intdash-py-samples/blob/master/img/img1.png?raw=true\">"
   ]
  },
  {
   "cell_type": "markdown",
   "metadata": {},
   "source": [
    "### Import packages and create a client\n",
    "For `url` given to ` intdash.Client`, specify the environment of the intdash server. For `edge_token`, specify the token issued for the edge you use.\n",
    "(\\* Login with `username` and `password` is also possible, but it is recommended to use edge token for continued use.)"
   ]
  },
  {
   "cell_type": "code",
   "execution_count": 4,
   "metadata": {},
   "outputs": [],
   "source": [
    "import pandas as pd\n",
    "\n",
    "import intdash\n",
    "from intdash import  timeutils\n",
    "\n",
    "###  Create Client\n",
    "\n",
    "client = intdash.Client(\n",
    "    url = \"https://example.intdash.jp\",\n",
    "    edge_token = \"your_token\",\n",
    ")"
   ]
  },
  {
   "cell_type": "markdown",
   "metadata": {},
   "source": [
    "### Register the signal definitions\n",
    "In this scenario, \"general sensor type\" data is used. This data is in intdash original format. You need to convert the data from smartphone sensor type to numeric type (Float type this time) on the server side.\n",
    "In order to perform this conversion, it is necessary to register \"signal definitions\".\n",
    "Use the following executable file to convert data from the smartphone sensor type to numerical values.\n",
    "\n",
    "[Signal definition examples for General Sensor type](https://docs.intdash.jp/sdk/python/latest/en/guide/signals/generalsensor.html)\n",
    "\n",
    "In this sample, only the conversion definition of \"acceleration\" is registered."
   ]
  },
  {
   "cell_type": "markdown",
   "metadata": {},
   "source": [
    "### Confirm that the signal definitions are registered\n",
    "Confirm the registered signal definitions"
   ]
  },
  {
   "cell_type": "code",
   "execution_count": 2,
   "metadata": {},
   "outputs": [],
   "source": [
    "signals = client.signals.list(label='sp')"
   ]
  },
  {
   "cell_type": "code",
   "execution_count": 3,
   "metadata": {},
   "outputs": [
    {
     "name": "stdout",
     "output_type": "stream",
     "text": [
      "sp_ACCX, sp_ACCY, sp_ACCZ, "
     ]
    }
   ],
   "source": [
    "for s in signals:\n",
    "    print(s.label,  end=', ')"
   ]
  },
  {
   "cell_type": "markdown",
   "metadata": {},
   "source": [
    "The preparations are complete."
   ]
  },
  {
   "cell_type": "markdown",
   "metadata": {},
   "source": [
    "## Retrieve the edge used for measurement"
   ]
  },
  {
   "cell_type": "code",
   "execution_count": 4,
   "metadata": {},
   "outputs": [],
   "source": [
    "edges = client.edges.list(name='sdk_edge1')\n",
    "sdk_edge1 = edges[0]"
   ]
  },
  {
   "cell_type": "code",
   "execution_count": 5,
   "metadata": {},
   "outputs": [
    {
     "data": {
      "text/plain": [
       "'sdk_edge1'"
      ]
     },
     "execution_count": 5,
     "metadata": {},
     "output_type": "execute_result"
    }
   ],
   "source": [
    "sdk_edge1.name"
   ]
  },
  {
   "cell_type": "markdown",
   "metadata": {},
   "source": [
    "## (Optional) Retrieve the measurement\n",
    "If you want to search using the UUID of the measurement, retrieve the measurement information.\n",
    "Specify the time using `list()` at the first retrieval."
   ]
  },
  {
   "cell_type": "code",
   "execution_count": 7,
   "metadata": {},
   "outputs": [],
   "source": [
    "ms = client.measurements.list(\n",
    "    edge_uuid=sdk_edge1.uuid,\n",
    "    start=timeutils.str2timestamp('2020-07-09 00:00:00+09:00'), # change appropriately.\n",
    "    end=timeutils.str2timestamp('2020-07-10 00:00:00+09:00') # change appropriately.\n",
    ")"
   ]
  },
  {
   "cell_type": "code",
   "execution_count": 8,
   "metadata": {},
   "outputs": [
    {
     "name": "stdout",
     "output_type": "stream",
     "text": [
      "uuid: db43f826-03a4-44a1-84ca-518fe93c637e\n",
      "name: \n",
      "description: \n",
      "edge_uuid: bbe7c17a-6edf-436f-9bc6-c9aad382280c\n",
      "duration: 0 days 00:00:18.146069\n",
      "ended: True\n",
      "basetime: 2020-07-09 08:34:10.832607+00:00\n",
      "basetime_type: ntp\n",
      "processed_ratio: 1\n",
      "protected: True\n",
      "markers: []\n",
      "created_at: 2020-07-09 08:34:11.214944+00:00\n",
      "updated_at: 2020-07-09 08:34:35.376772+00:00\n"
     ]
    }
   ],
   "source": [
    "# Because there is only one measurement associated with `sdk_edge1`, it is specified as follows.\n",
    "m = ms[0]\n",
    "print(m)"
   ]
  },
  {
   "cell_type": "markdown",
   "metadata": {},
   "source": [
    "## Retrieve time series data\n",
    "Use `client.data_points` to retrieve the time series data.  \n",
    "For ``labels`` , specify the label names of the signal definitions.  \n",
    "``start`` and ``end`` should be changed to a time that includes the measurements created in the previous step."
   ]
  },
  {
   "cell_type": "code",
   "execution_count": 9,
   "metadata": {},
   "outputs": [],
   "source": [
    "dps = client.data_points.list(\n",
    "    edge_name='sdk_edge1',\n",
    "    start=timeutils.str2timestamp('2020-07-09 00:00:00+09:00'),  # change appropriately.\n",
    "    end=timeutils.str2timestamp('2020-07-10 00:00:00+09:00'),  # change appropriately.\n",
    "    labels=['sp_ACCX', 'sp_ACCY', 'sp_ACCZ']\n",
    ")"
   ]
  },
  {
   "cell_type": "code",
   "execution_count": 10,
   "metadata": {},
   "outputs": [
    {
     "name": "stdout",
     "output_type": "stream",
     "text": [
      "time: 2020-07-09T08:34:11.095032000Z\n",
      "measurement_uuid: db43f826-03a4-44a1-84ca-518fe93c637e\n",
      "data_type: 11\n",
      "channel: 1\n",
      "data_id: sp_ACCY\n",
      "data_payload: b'\\x07sp_ACCY\\x7f\\x9e\\x06\\x0c\\x92>\\xa5?'\n"
     ]
    }
   ],
   "source": [
    "print(dps[0])"
   ]
  },
  {
   "cell_type": "markdown",
   "metadata": {},
   "source": [
    "## Convert list of DataPoints to a DataFrame"
   ]
  },
  {
   "cell_type": "markdown",
   "metadata": {},
   "source": [
    "You can convert the data to a DataFrame which has columns for each `data_id` as follows."
   ]
  },
  {
   "cell_type": "code",
   "execution_count": 19,
   "metadata": {},
   "outputs": [
    {
     "data": {
      "text/html": [
       "<div>\n",
       "<style scoped>\n",
       "    .dataframe tbody tr th:only-of-type {\n",
       "        vertical-align: middle;\n",
       "    }\n",
       "\n",
       "    .dataframe tbody tr th {\n",
       "        vertical-align: top;\n",
       "    }\n",
       "\n",
       "    .dataframe thead th {\n",
       "        text-align: right;\n",
       "    }\n",
       "</style>\n",
       "<table border=\"1\" class=\"dataframe\">\n",
       "  <thead>\n",
       "    <tr style=\"text-align: right;\">\n",
       "      <th></th>\n",
       "      <th>sp_ACCY</th>\n",
       "      <th>sp_ACCZ</th>\n",
       "      <th>sp_ACCX</th>\n",
       "    </tr>\n",
       "    <tr>\n",
       "      <th>time</th>\n",
       "      <th></th>\n",
       "      <th></th>\n",
       "      <th></th>\n",
       "    </tr>\n",
       "  </thead>\n",
       "  <tbody>\n",
       "    <tr>\n",
       "      <td>2020-07-09T08:34:11.095032000Z</td>\n",
       "      <td>0.041493</td>\n",
       "      <td>0.217996</td>\n",
       "      <td>0.048094</td>\n",
       "    </tr>\n",
       "    <tr>\n",
       "      <td>2020-07-09T08:34:11.115194000Z</td>\n",
       "      <td>0.123338</td>\n",
       "      <td>0.305914</td>\n",
       "      <td>0.038043</td>\n",
       "    </tr>\n",
       "    <tr>\n",
       "      <td>2020-07-09T08:34:11.135356000Z</td>\n",
       "      <td>0.046133</td>\n",
       "      <td>0.436974</td>\n",
       "      <td>-0.051388</td>\n",
       "    </tr>\n",
       "    <tr>\n",
       "      <td>2020-07-09T08:34:11.155517000Z</td>\n",
       "      <td>-0.034988</td>\n",
       "      <td>0.233272</td>\n",
       "      <td>0.102698</td>\n",
       "    </tr>\n",
       "    <tr>\n",
       "      <td>2020-07-09T08:34:11.175679000Z</td>\n",
       "      <td>-0.055907</td>\n",
       "      <td>-0.164569</td>\n",
       "      <td>0.047395</td>\n",
       "    </tr>\n",
       "    <tr>\n",
       "      <td>...</td>\n",
       "      <td>...</td>\n",
       "      <td>...</td>\n",
       "      <td>...</td>\n",
       "    </tr>\n",
       "    <tr>\n",
       "      <td>2020-07-09T08:34:14.361262000Z</td>\n",
       "      <td>0.506122</td>\n",
       "      <td>0.231640</td>\n",
       "      <td>-1.372483</td>\n",
       "    </tr>\n",
       "    <tr>\n",
       "      <td>2020-07-09T08:34:14.381424000Z</td>\n",
       "      <td>0.354834</td>\n",
       "      <td>-0.354698</td>\n",
       "      <td>-1.570656</td>\n",
       "    </tr>\n",
       "    <tr>\n",
       "      <td>2020-07-09T08:34:14.401586000Z</td>\n",
       "      <td>-0.216771</td>\n",
       "      <td>0.578869</td>\n",
       "      <td>-0.578583</td>\n",
       "    </tr>\n",
       "    <tr>\n",
       "      <td>2020-07-09T08:34:14.421750000Z</td>\n",
       "      <td>-0.530205</td>\n",
       "      <td>2.901541</td>\n",
       "      <td>0.549015</td>\n",
       "    </tr>\n",
       "    <tr>\n",
       "      <td>2020-07-09T08:34:14.441910000Z</td>\n",
       "      <td>0.157232</td>\n",
       "      <td>4.466470</td>\n",
       "      <td>1.244910</td>\n",
       "    </tr>\n",
       "  </tbody>\n",
       "</table>\n",
       "<p>167 rows × 3 columns</p>\n",
       "</div>"
      ],
      "text/plain": [
       "                                 sp_ACCY   sp_ACCZ   sp_ACCX\n",
       "time                                                        \n",
       "2020-07-09T08:34:11.095032000Z  0.041493  0.217996  0.048094\n",
       "2020-07-09T08:34:11.115194000Z  0.123338  0.305914  0.038043\n",
       "2020-07-09T08:34:11.135356000Z  0.046133  0.436974 -0.051388\n",
       "2020-07-09T08:34:11.155517000Z -0.034988  0.233272  0.102698\n",
       "2020-07-09T08:34:11.175679000Z -0.055907 -0.164569  0.047395\n",
       "...                                  ...       ...       ...\n",
       "2020-07-09T08:34:14.361262000Z  0.506122  0.231640 -1.372483\n",
       "2020-07-09T08:34:14.381424000Z  0.354834 -0.354698 -1.570656\n",
       "2020-07-09T08:34:14.401586000Z -0.216771  0.578869 -0.578583\n",
       "2020-07-09T08:34:14.421750000Z -0.530205  2.901541  0.549015\n",
       "2020-07-09T08:34:14.441910000Z  0.157232  4.466470  1.244910\n",
       "\n",
       "[167 rows x 3 columns]"
      ]
     },
     "execution_count": 19,
     "metadata": {},
     "output_type": "execute_result"
    }
   ],
   "source": [
    "from intdash import data\n",
    "\n",
    "df = pd.DataFrame( [ {\n",
    "     'time' : d.time,\n",
    "       d.data_id : data.Float.from_payload(d.data_payload).value  # convert binary to numbers.\n",
    "    }\n",
    "    for d in dps\n",
    "]).groupby(\"time\").last()\n",
    "\n",
    "df"
   ]
  },
  {
   "cell_type": "markdown",
   "metadata": {},
   "source": [
    "## Save in CSV format\n",
    "Convert to a CSV file using the feature of DataFrame."
   ]
  },
  {
   "cell_type": "code",
   "execution_count": 20,
   "metadata": {},
   "outputs": [],
   "source": [
    "df.to_csv('./sdk_sample.csv')"
   ]
  },
  {
   "cell_type": "markdown",
   "metadata": {},
   "source": [
    "The saved file will look like as follows.\n",
    "\n",
    "<img src=\"https://github.com/aptpod/intdash-py-samples/blob/master/img/img2.png?raw=true\">"
   ]
  }
 ],
 "metadata": {
  "kernelspec": {
   "display_name": "Python 3",
   "language": "python",
   "name": "python3"
  },
  "language_info": {
   "codemirror_mode": {
    "name": "ipython",
    "version": 3
   },
   "file_extension": ".py",
   "mimetype": "text/x-python",
   "name": "python",
   "nbconvert_exporter": "python",
   "pygments_lexer": "ipython3",
   "version": "3.9.0"
  }
 },
 "nbformat": 4,
 "nbformat_minor": 4
}
