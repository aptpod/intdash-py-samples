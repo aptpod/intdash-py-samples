{
 "cells": [
  {
   "cell_type": "markdown",
   "metadata": {},
   "source": [
    "# 1. 時系列データを取得し、CSVで保存する"
   ]
  },
  {
   "cell_type": "markdown",
   "metadata": {},
   "source": [
    "このサンプルでは、以下の方法を中心に解説します。\n",
    "\n",
    "- スマートフォンのセンサーデータに対して、バイナリデータを数値に変換する信号定義(※)を登録する\n",
    "- 登録した信号定義を使ってデータを取得する\n",
    "- 取得した時系列データを`pandas.DataFrame`に変換し、CSVファイルとして保存する\n",
    "\n",
    "```\n",
    " 信号定義とは、バイナリ形式でフォーマットされたデータから一部を切り出し、数値や文字列など値データとして読み出す処理を定義したものです。\n",
    " この処理はサーバー側で実行されます。変換の種類に関しては、intdash.Conversionの派生クラスのドキュメントを参照してください     \n",
    "(https://docs.intdash.jp/sdk/python/latest/ja/signals.html#intdash.Conversion)\n",
    "```"
   ]
  },
  {
   "cell_type": "markdown",
   "metadata": {},
   "source": [
    "## シナリオ\n",
    "本シナリオでは、iOSアプリケーション **intdash Motion** からアップロードされた時系列データをダウンロードし、CSV形式でローカルストレージに保存します。"
   ]
  },
  {
   "cell_type": "markdown",
   "metadata": {},
   "source": [
    "## 事前準備\n",
    "本シナリオを実施する前に、以下を用意する必要があります。\n",
    "\n",
    "- 計測用のエッジ\n",
    "- intdash Motionを使用してアップロードされた計測(スマートフォンのセンサーデータを含む)\n",
    "- スマートフォンのセンサーデータに紐づく信号定義"
   ]
  },
  {
   "cell_type": "markdown",
   "metadata": {},
   "source": [
    "\n",
    "### 使用データ\n",
    "本シナリオでは、以下のデータをサーバー側に準備する必要があります。  \n",
    "\n",
    "|データ項目|本シナリオで登場するデータ名|\n",
    "|:---|:---|\n",
    "|時系列データを登録するエッジ|sdk_edge1|\n",
    "|信号定義(※)| `sp_ACCX`, `sp_ACCY`, `sp_ACCZ`|\n",
    "\n",
    "(※)本シナリオでは、スマートフォンのセンサーデータの加速度データを浮動小数点に変換する信号定義を使用します。登録方法については、以下の手順を確認してください。"
   ]
  },
  {
   "cell_type": "markdown",
   "metadata": {},
   "source": [
    "### 計測データの作成と時系列データのアップロード\n",
    "**intdash Motion** を使用してデータをアップロードします。 計測を登録後、 **Visual M2M Data Visualizer**  にて計測が新しく生成されたことを確認してください。"
   ]
  },
  {
   "cell_type": "markdown",
   "metadata": {},
   "source": [
    "### (補足) 本シナリオでのintdash Motion の操作手順\n",
    "1. iPhoneでintdash Motionを起動し、 `sdk_edge1` としてサインインする。\n",
    "2. Settings > Sensors を有効にし、Stream to ServerとSave to Server を有効にする。\n",
    "3. Main画面に戻り、画面中央の▶をタップする。\n",
    "4. 計測が開始した画面を確認する\n",
    "5. ■をタップし、計測を終了する"
   ]
  },
  {
   "cell_type": "markdown",
   "metadata": {},
   "source": [
    "Visual M2M Data Visualizerの「Stored Data」に計測が表示されていれば完了です。\n",
    "この後、この計測の時系列データを取得し、CSV形式で保存します。\n",
    "\n",
    "<img src=\"https://github.com/aptpod/intdash-py-samples/blob/master/img/img1.png?raw=true\">"
   ]
  },
  {
   "cell_type": "markdown",
   "metadata": {},
   "source": [
    "### パッケージのimportとクライアントの生成\n",
    "`intdash.Client` に与える `url` は intdashサーバーの環境情報から、 `edge_token` はログイン用エッジで発行したトークンを指定してください。  \n",
    "(※ `username` と `password` でのログインも可能ですが、継続して使用する場合はエッジトークンの使用を推奨します)"
   ]
  },
  {
   "cell_type": "code",
   "execution_count": 4,
   "metadata": {},
   "outputs": [],
   "source": [
    "import pandas as pd\n",
    "\n",
    "import intdash\n",
    "from intdash import  timeutils\n",
    "\n",
    "###  Create Client\n",
    "\n",
    "client = intdash.Client(\n",
    "    url = \"https://example.intdash.jp\",\n",
    "    edge_token = \"your_token\",\n",
    ")"
   ]
  },
  {
   "cell_type": "markdown",
   "metadata": {},
   "source": [
    "### 信号定義を登録する\n",
    "本シナリオでは「汎用センサー型」のデータを使用します。このデータはintdash独自の形式であるため、サーバー側でスマートフォンのセンサー型から数値型(今回はFloat型)に変換します。\n",
    "この変換を行うためには、「信号定義」を登録する必要があります。\n",
    "スマートフォンのセンサー型から数値に変更するための実行ファイルは、以下を使用してください。\n",
    "\n",
    "[汎用センサー（General Sensor）型向け 信号定義サンプル](https://docs.intdash.jp/sdk/python/latest/ja/guide/signals/generalsensor.html)  \n",
    "\n",
    "本サンプルでは、「汎用センサー型」のうち、「加速度」の変換定義のみを登録します。  "
   ]
  },
  {
   "cell_type": "markdown",
   "metadata": {},
   "source": [
    "### 信号定義が登録されていることを確認する\n",
    "上記で登録した信号定義を確認します。"
   ]
  },
  {
   "cell_type": "code",
   "execution_count": 2,
   "metadata": {},
   "outputs": [],
   "source": [
    "signals = client.signals.list(label='sp')"
   ]
  },
  {
   "cell_type": "code",
   "execution_count": 3,
   "metadata": {},
   "outputs": [
    {
     "name": "stdout",
     "output_type": "stream",
     "text": [
      "sp_ACCX, sp_ACCY, sp_ACCZ, "
     ]
    }
   ],
   "source": [
    "for s in signals:\n",
    "    print(s.label,  end=', ')"
   ]
  },
  {
   "cell_type": "markdown",
   "metadata": {},
   "source": [
    "以上で事前準備は終了です。"
   ]
  },
  {
   "cell_type": "markdown",
   "metadata": {},
   "source": [
    "## 計測に使用したエッジを取得する"
   ]
  },
  {
   "cell_type": "code",
   "execution_count": 4,
   "metadata": {},
   "outputs": [],
   "source": [
    "edges = client.edges.list(name='sdk_edge1')\n",
    "sdk_edge1 = edges[0]"
   ]
  },
  {
   "cell_type": "code",
   "execution_count": 5,
   "metadata": {},
   "outputs": [
    {
     "data": {
      "text/plain": [
       "'sdk_edge1'"
      ]
     },
     "execution_count": 5,
     "metadata": {},
     "output_type": "execute_result"
    }
   ],
   "source": [
    "sdk_edge1.name"
   ]
  },
  {
   "cell_type": "markdown",
   "metadata": {},
   "source": [
    "## (option) 計測を取得する\n",
    "計測のUUIDを使用して検索したい場合は計測情報を取得します。  \n",
    "最初の取得時には `list()` を使用して時間指定を行います。  "
   ]
  },
  {
   "cell_type": "code",
   "execution_count": 7,
   "metadata": {},
   "outputs": [],
   "source": [
    "ms = client.measurements.list(\n",
    "    edge_uuid=sdk_edge1.uuid,\n",
    "    start=timeutils.str2timestamp('2020-07-09 00:00:00+09:00'),# change appropriately.\n",
    "    end=timeutils.str2timestamp('2020-07-10 00:00:00+09:00') # change appropriately.\n",
    ")"
   ]
  },
  {
   "cell_type": "code",
   "execution_count": 8,
   "metadata": {},
   "outputs": [
    {
     "name": "stdout",
     "output_type": "stream",
     "text": [
      "uuid: db43f826-03a4-44a1-84ca-518fe93c637e\n",
      "name: \n",
      "description: \n",
      "edge_uuid: bbe7c17a-6edf-436f-9bc6-c9aad382280c\n",
      "duration: 0 days 00:00:18.146069\n",
      "ended: True\n",
      "basetime: 2020-07-09 08:34:10.832607+00:00\n",
      "basetime_type: ntp\n",
      "processed_ratio: 1\n",
      "protected: True\n",
      "markers: []\n",
      "created_at: 2020-07-09 08:34:11.214944+00:00\n",
      "updated_at: 2020-07-09 08:34:35.376772+00:00\n"
     ]
    }
   ],
   "source": [
    "# Because there is only one measurement associated with `sdk_edge1`, it is specified as follows.\n",
    "m = ms[0]\n",
    "print(m)"
   ]
  },
  {
   "cell_type": "markdown",
   "metadata": {},
   "source": [
    "## 時系列データを取得する\n",
    "時系列データの取得には `client.data_points` エンドポイントを使用します。  \n",
    "`labels` に、事前に登録している信号定義のラベル名を指定して実行します。  \n",
    "`start` および `end` は前述の手順で作成した計測を含む時刻に変更してください。"
   ]
  },
  {
   "cell_type": "code",
   "execution_count": 9,
   "metadata": {},
   "outputs": [],
   "source": [
    "dps = client.data_points.list(\n",
    "    edge_name='sdk_edge1',\n",
    "    start=timeutils.str2timestamp('2020-07-09 00:00:00+09:00'), # change appropriately.\n",
    "    end=timeutils.str2timestamp('2020-07-10 00:00:00+09:00'), # change appropriately.\n",
    "    labels=['sp_ACCX', 'sp_ACCY', 'sp_ACCZ']\n",
    ")"
   ]
  },
  {
   "cell_type": "code",
   "execution_count": 10,
   "metadata": {},
   "outputs": [
    {
     "name": "stdout",
     "output_type": "stream",
     "text": [
      "time: 2020-07-09T08:34:11.095032000Z\n",
      "measurement_uuid: db43f826-03a4-44a1-84ca-518fe93c637e\n",
      "data_type: 11\n",
      "channel: 1\n",
      "data_id: sp_ACCY\n",
      "data_payload: b'\\x07sp_ACCY\\x7f\\x9e\\x06\\x0c\\x92>\\xa5?'\n"
     ]
    }
   ],
   "source": [
    "print(dps[0])"
   ]
  },
  {
   "cell_type": "markdown",
   "metadata": {},
   "source": [
    "## DataPointsのリストをDataFrameに変換する"
   ]
  },
  {
   "cell_type": "markdown",
   "metadata": {},
   "source": [
    "以下のように指定することで、 `data_id` ごとのカラムを持つDataFrameに変換することができます。"
   ]
  },
  {
   "cell_type": "code",
   "execution_count": 19,
   "metadata": {},
   "outputs": [
    {
     "data": {
      "text/html": [
       "<div>\n",
       "<style scoped>\n",
       "    .dataframe tbody tr th:only-of-type {\n",
       "        vertical-align: middle;\n",
       "    }\n",
       "\n",
       "    .dataframe tbody tr th {\n",
       "        vertical-align: top;\n",
       "    }\n",
       "\n",
       "    .dataframe thead th {\n",
       "        text-align: right;\n",
       "    }\n",
       "</style>\n",
       "<table border=\"1\" class=\"dataframe\">\n",
       "  <thead>\n",
       "    <tr style=\"text-align: right;\">\n",
       "      <th></th>\n",
       "      <th>sp_ACCY</th>\n",
       "      <th>sp_ACCZ</th>\n",
       "      <th>sp_ACCX</th>\n",
       "    </tr>\n",
       "    <tr>\n",
       "      <th>time</th>\n",
       "      <th></th>\n",
       "      <th></th>\n",
       "      <th></th>\n",
       "    </tr>\n",
       "  </thead>\n",
       "  <tbody>\n",
       "    <tr>\n",
       "      <td>2020-07-09T08:34:11.095032000Z</td>\n",
       "      <td>0.041493</td>\n",
       "      <td>0.217996</td>\n",
       "      <td>0.048094</td>\n",
       "    </tr>\n",
       "    <tr>\n",
       "      <td>2020-07-09T08:34:11.115194000Z</td>\n",
       "      <td>0.123338</td>\n",
       "      <td>0.305914</td>\n",
       "      <td>0.038043</td>\n",
       "    </tr>\n",
       "    <tr>\n",
       "      <td>2020-07-09T08:34:11.135356000Z</td>\n",
       "      <td>0.046133</td>\n",
       "      <td>0.436974</td>\n",
       "      <td>-0.051388</td>\n",
       "    </tr>\n",
       "    <tr>\n",
       "      <td>2020-07-09T08:34:11.155517000Z</td>\n",
       "      <td>-0.034988</td>\n",
       "      <td>0.233272</td>\n",
       "      <td>0.102698</td>\n",
       "    </tr>\n",
       "    <tr>\n",
       "      <td>2020-07-09T08:34:11.175679000Z</td>\n",
       "      <td>-0.055907</td>\n",
       "      <td>-0.164569</td>\n",
       "      <td>0.047395</td>\n",
       "    </tr>\n",
       "    <tr>\n",
       "      <td>...</td>\n",
       "      <td>...</td>\n",
       "      <td>...</td>\n",
       "      <td>...</td>\n",
       "    </tr>\n",
       "    <tr>\n",
       "      <td>2020-07-09T08:34:14.361262000Z</td>\n",
       "      <td>0.506122</td>\n",
       "      <td>0.231640</td>\n",
       "      <td>-1.372483</td>\n",
       "    </tr>\n",
       "    <tr>\n",
       "      <td>2020-07-09T08:34:14.381424000Z</td>\n",
       "      <td>0.354834</td>\n",
       "      <td>-0.354698</td>\n",
       "      <td>-1.570656</td>\n",
       "    </tr>\n",
       "    <tr>\n",
       "      <td>2020-07-09T08:34:14.401586000Z</td>\n",
       "      <td>-0.216771</td>\n",
       "      <td>0.578869</td>\n",
       "      <td>-0.578583</td>\n",
       "    </tr>\n",
       "    <tr>\n",
       "      <td>2020-07-09T08:34:14.421750000Z</td>\n",
       "      <td>-0.530205</td>\n",
       "      <td>2.901541</td>\n",
       "      <td>0.549015</td>\n",
       "    </tr>\n",
       "    <tr>\n",
       "      <td>2020-07-09T08:34:14.441910000Z</td>\n",
       "      <td>0.157232</td>\n",
       "      <td>4.466470</td>\n",
       "      <td>1.244910</td>\n",
       "    </tr>\n",
       "  </tbody>\n",
       "</table>\n",
       "<p>167 rows × 3 columns</p>\n",
       "</div>"
      ],
      "text/plain": [
       "                                 sp_ACCY   sp_ACCZ   sp_ACCX\n",
       "time                                                        \n",
       "2020-07-09T08:34:11.095032000Z  0.041493  0.217996  0.048094\n",
       "2020-07-09T08:34:11.115194000Z  0.123338  0.305914  0.038043\n",
       "2020-07-09T08:34:11.135356000Z  0.046133  0.436974 -0.051388\n",
       "2020-07-09T08:34:11.155517000Z -0.034988  0.233272  0.102698\n",
       "2020-07-09T08:34:11.175679000Z -0.055907 -0.164569  0.047395\n",
       "...                                  ...       ...       ...\n",
       "2020-07-09T08:34:14.361262000Z  0.506122  0.231640 -1.372483\n",
       "2020-07-09T08:34:14.381424000Z  0.354834 -0.354698 -1.570656\n",
       "2020-07-09T08:34:14.401586000Z -0.216771  0.578869 -0.578583\n",
       "2020-07-09T08:34:14.421750000Z -0.530205  2.901541  0.549015\n",
       "2020-07-09T08:34:14.441910000Z  0.157232  4.466470  1.244910\n",
       "\n",
       "[167 rows x 3 columns]"
      ]
     },
     "execution_count": 19,
     "metadata": {},
     "output_type": "execute_result"
    }
   ],
   "source": [
    "from intdash import data\n",
    "\n",
    "df = pd.DataFrame( [ {\n",
    "     'time' : d.time,\n",
    "       d.data_id : data.Float.from_payload(d.data_payload).value  # convert binary to numbers.\n",
    "    }\n",
    "    for d in dps\n",
    "]).groupby(\"time\").last()\n",
    "\n",
    "df"
   ]
  },
  {
   "cell_type": "markdown",
   "metadata": {},
   "source": [
    "## CSV形式で保存する\n",
    "DataFrameの機能を使い、CSVファイルに変換します。"
   ]
  },
  {
   "cell_type": "code",
   "execution_count": 20,
   "metadata": {},
   "outputs": [],
   "source": [
    "df.to_csv('./sdk_sample.csv')"
   ]
  },
  {
   "cell_type": "markdown",
   "metadata": {},
   "source": [
    "このように保存されます。\n",
    "\n",
    "<img src=\"https://github.com/aptpod/intdash-py-samples/blob/master/img/img2.png?raw=true\">"
   ]
  }
 ],
 "metadata": {
  "kernelspec": {
   "display_name": "Python 3",
   "language": "python",
   "name": "python3"
  },
  "language_info": {
   "codemirror_mode": {
    "name": "ipython",
    "version": 3
   },
   "file_extension": ".py",
   "mimetype": "text/x-python",
   "name": "python",
   "nbconvert_exporter": "python",
   "pygments_lexer": "ipython3",
   "version": "3.9.0"
  }
 },
 "nbformat": 4,
 "nbformat_minor": 4
}
