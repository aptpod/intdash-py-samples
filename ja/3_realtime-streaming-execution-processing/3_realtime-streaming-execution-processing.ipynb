{
 "cells": [
  {
   "cell_type": "markdown",
   "metadata": {},
   "source": [
    "# 3. 数値をリアルタイムで取得し、関数処理を実行する"
   ]
  },
  {
   "cell_type": "markdown",
   "metadata": {},
   "source": [
    "このケースでは、以下の方法を中心に解説します。\n",
    "\n",
    "- 他のエッジからリアルタイムで送付されるデータを取得する\n",
    "- 取得したデータに対して関数処理を実行する\n",
    "- 関数処理済みのデータをリアルタイムにアップロードする\n",
    "\n",
    "## シナリオ\n",
    "iOSアプリケーション  **intdash Motion** を活用します。\n",
    "iPhoneからストリーミングされたデータを受信し、`intdash-py` にてセンサー情報に関数処理を実行し、サーバーにアップロードします。本シナリオでは、関数処理のサンプルとして移動平均を使用します。"
   ]
  },
  {
   "cell_type": "markdown",
   "metadata": {},
   "source": [
    "## 事前準備\n",
    "\n",
    "本シナリオを実施する前に、以下を用意する必要があります。\n",
    "\n",
    "- 計測用のエッジ\n",
    "- intdash Motion アプリ\n",
    "- 汎用センサーデータに紐づく信号定義"
   ]
  },
  {
   "cell_type": "markdown",
   "metadata": {},
   "source": [
    "### 使用データ\n",
    "本シナリオでは、事前に以下のデータをサーバー側に準備する必要があります。\n",
    "\n",
    "|データ項目|本シナリオで登場するデータ名|\n",
    "|:---|:---|\n",
    "|データ取得用エッジ|sdk_edge1|\n",
    "|データアップロード用エッジ|sdk_edge2|\n",
    "|信号定義(※)| `sp_ACCX`, `sp_ACCY`, `sp_ACCZ`|\n",
    "\n",
    "(※) **「1. 時系列データを取得し、CSVで保存する」** で使用した信号定義と同じものを使用します。   \n"
   ]
  },
  {
   "cell_type": "markdown",
   "metadata": {},
   "source": [
    "### パッケージのimportとクライアントの生成\n",
    "`intdash.Client` に与える `url` は intdashサーバーの環境情報から、 `edge_token` はログイン用エッジで発行したトークンを指定してください。  \n",
    "(※ `username` と `password` でのログインも可能ですが、継続して動作する場合はエッジトークンの使用を推奨します)"
   ]
  },
  {
   "cell_type": "code",
   "execution_count": 43,
   "metadata": {},
   "outputs": [],
   "source": [
    "import pandas as pd\n",
    "\n",
    "import intdash\n",
    "from intdash import timeutils\n",
    "\n",
    "# Create client\n",
    "client = intdash.Client(\n",
    "    url = \"https://example.intdash.jp\",\n",
    "    edge_token = \"your_token\",\n",
    ")"
   ]
  },
  {
   "cell_type": "markdown",
   "metadata": {},
   "source": [
    "### 信号定義の登録\n",
    "「1.時系列データを取得し、CSVで保存する」 で使用した信号定義と同じ信号定義を使います。\n",
    "汎用センサー型から数値に変換するための実行ファイルは、以下を確認してください。\n",
    "\n",
    "[汎用センサー（General Sensor）型向け 信号定義サンプル](https://docs.intdash.jp/sdk/python/latest/ja/guide/signals/generalsensor.html) \n",
    "\n",
    "本シナリオでは、「汎用センサー型」のうち、「加速度」に対してのみ変換定義を登録します。  "
   ]
  },
  {
   "cell_type": "markdown",
   "metadata": {},
   "source": [
    "### 信号定義が登録されていることを確認\n",
    "このシナリオで使用する信号定義が登録されていることを確認します。"
   ]
  },
  {
   "cell_type": "code",
   "execution_count": 2,
   "metadata": {},
   "outputs": [],
   "source": [
    "signals = client.signals.list(label='sp')"
   ]
  },
  {
   "cell_type": "code",
   "execution_count": 49,
   "metadata": {},
   "outputs": [
    {
     "name": "stdout",
     "output_type": "stream",
     "text": [
      "sp_ACCX, sp_ACCY, sp_ACCZ, "
     ]
    }
   ],
   "source": [
    "for s in signals:\n",
    "    print(s.label,  end=', ')"
   ]
  },
  {
   "cell_type": "markdown",
   "metadata": {},
   "source": [
    "## 使用するエッジの取得"
   ]
  },
  {
   "cell_type": "code",
   "execution_count": 3,
   "metadata": {},
   "outputs": [],
   "source": [
    "sdk_edge1 = client.edges.list(name='sdk_edge1')[0]\n",
    "sdk_edge2 = client.edges.list(name='sdk_edge2')[0]"
   ]
  },
  {
   "cell_type": "code",
   "execution_count": 4,
   "metadata": {},
   "outputs": [
    {
     "data": {
      "text/plain": [
       "('sdk_edge1', 'sdk_edge2')"
      ]
     },
     "execution_count": 4,
     "metadata": {},
     "output_type": "execute_result"
    }
   ],
   "source": [
    "sdk_edge1.name, sdk_edge2.name"
   ]
  },
  {
   "cell_type": "markdown",
   "metadata": {},
   "source": [
    "## Queueの作成\n",
    "サーバーからデータを受け取ってからサーバーに返すまでの処理はQueueを使って行います。"
   ]
  },
  {
   "cell_type": "code",
   "execution_count": 5,
   "metadata": {},
   "outputs": [],
   "source": [
    "import queue\n",
    "q = queue.Queue(maxsize=5)"
   ]
  },
  {
   "cell_type": "markdown",
   "metadata": {},
   "source": [
    "## データの取得 (Downstream) の準備\n",
    "あるエッジが送信している時系列データをサーバーを介して受け取る処理を定義します"
   ]
  },
  {
   "cell_type": "markdown",
   "metadata": {},
   "source": [
    "### リクエストを作成する\n",
    "`src_edge_uuid` には、データの送り元のエッジを指定します。この例では、 **intdash Motion** を実行しているエッジ `sdk_edge1` です。\n",
    "`intdash.DataFilter` の `data_id` に信号定義の `label` 名を指定します。"
   ]
  },
  {
   "cell_type": "code",
   "execution_count": 6,
   "metadata": {},
   "outputs": [],
   "source": [
    "d_specs = [\n",
    "        intdash.DownstreamSpec(\n",
    "            src_edge_uuid = sdk_edge1.uuid, #edge_uuid\n",
    "            filters = [\n",
    "                 intdash.DataFilter(data_type=intdash.DataType.float.value, data_id='sp_ACCX',channel=1),  # Acceleration X\n",
    "                 intdash.DataFilter(data_type=intdash.DataType.float.value, data_id='sp_ACCY',channel=1),  # Acceleration Y\n",
    "                 intdash.DataFilter(data_type=intdash.DataType.float.value, data_id='sp_ACCZ',channel=1),  # Acceleration Z\n",
    "            ],\n",
    "        ),\n",
    "    ]"
   ]
  },
  {
   "cell_type": "markdown",
   "metadata": {},
   "source": [
    "### データ受け取り時の関数処理を定義する\n",
    "本シナリオでは、データの受け取り側は、時系列データを受け取りそのままQueueに追加する処理を定義します。"
   ]
  },
  {
   "cell_type": "code",
   "execution_count": 7,
   "metadata": {},
   "outputs": [],
   "source": [
    "# Put the received time-series data to the Queue.\n",
    "def callback(unit):\n",
    "    try:\n",
    "        q.put_nowait(unit)\n",
    "    except queue.Full:\n",
    "        pass"
   ]
  },
  {
   "cell_type": "markdown",
   "metadata": {},
   "source": [
    "## データのアップロード (Upstream) の準備\n",
    "受け取ったデータを加工してサーバーに新しい時系列データとして送付する処理を定義します。"
   ]
  },
  {
   "cell_type": "markdown",
   "metadata": {},
   "source": [
    "### リクエストを作成する\n",
    "アップロード時に使用するエッジのUUIDを指定します。"
   ]
  },
  {
   "cell_type": "code",
   "execution_count": 9,
   "metadata": {},
   "outputs": [],
   "source": [
    "u_specs = [\n",
    "        intdash.UpstreamSpec(\n",
    "            src_edge_uuid = sdk_edge2.uuid,\n",
    "        )\n",
    "    ]"
   ]
  },
  {
   "cell_type": "markdown",
   "metadata": {},
   "source": [
    "### 加工処理を定義する\n",
    "本シナリオでは、移動平均を算出してサーバー側に返す処理を定義します。"
   ]
  },
  {
   "cell_type": "code",
   "execution_count": 10,
   "metadata": {},
   "outputs": [],
   "source": [
    "import numpy as np\n",
    "\n",
    "# The function calculate moving average.\n",
    "def calc_ave(score, array, ave_num):\n",
    "    array.append(score)\n",
    "    if len(array) > ave_num:\n",
    "        array.popleft()\n",
    "  \n",
    "    return  np.sum(array)/ len(array)"
   ]
  },
  {
   "cell_type": "markdown",
   "metadata": {},
   "source": [
    "### データの送付側の関数処理を定義する\n",
    "\n",
    "以下の処理を定義します\n",
    "\n",
    "- Queueからデータを取得する\n",
    "- 取得した時系列データに対してデータ型ごとに処理を分岐する\n",
    "- 加工処理にデータをいれる\n",
    "- 新たに作成したデータを送付する( yield で intdash.Unit を返す)"
   ]
  },
  {
   "cell_type": "code",
   "execution_count": 11,
   "metadata": {},
   "outputs": [],
   "source": [
    "AVE_NUM = 5\n",
    "\n",
    "import struct\n",
    "from collections import deque\n",
    "\n",
    "acc_x_dq = deque([])\n",
    "acc_y_dq = deque([])\n",
    "acc_z_dq = deque([])\n",
    "\n",
    "\n",
    "# Calculate moving average of the received time-series data,  convert it to Unit and upload. \n",
    "def upload_func():\n",
    "    while True:\n",
    "        try:\n",
    "            unit = q.get_nowait()\n",
    "            \n",
    "            # Skip basetime.\n",
    "            if unit.data.data_type.value == intdash.DataType.basetime.value:\n",
    "                yield unit\n",
    "                continue\n",
    "            \n",
    "            # Skip other data.\n",
    "            if unit.data.data_type.value != intdash.DataType.float.value:\n",
    "                yield unit\n",
    "                continue\n",
    "                \n",
    "            # Get intdash.intdash.data.GeneralSensor.\n",
    "            sensor_data = unit.data\n",
    "                \n",
    "            if unit.data.data_id == 'sp_ACCX':\n",
    "                acc_x = unit.data.value\n",
    "                ave_acc_x = calc_ave(acc_x, acc_x_dq, AVE_NUM)\n",
    "                \n",
    "                if ave_acc_x is None:\n",
    "                    continue\n",
    "               \n",
    "                yield intdash.Unit(\n",
    "                      elapsed_time = unit.elapsed_time,\n",
    "                      channel = 1,\n",
    "                      data =  intdash.data.Float(data_id = 'sp_ACCX', value =ave_acc_x ),\n",
    "                    )\n",
    "                continue\n",
    "                \n",
    "                 \n",
    "            if unit.data.data_id == 'sp_ACCY':\n",
    "                acc_y = unit.data.value\n",
    "                ave_acc_y = calc_ave(acc_y, acc_y_dq, AVE_NUM)\n",
    "                \n",
    "                if ave_acc_y is None:\n",
    "                    continue\n",
    "               \n",
    "                yield intdash.Unit(\n",
    "                      elapsed_time = unit.elapsed_time,\n",
    "                      channel = 1,\n",
    "                      data =  intdash.data.Float(data_id = 'sp_ACCY', value =ave_acc_y ),\n",
    "                    )\n",
    "                continue\n",
    "                \n",
    "            if unit.data.data_id == 'sp_ACCZ':\n",
    "                acc_z = unit.data.value\n",
    "                ave_acc_z = calc_ave(acc_z, acc_z_dq, AVE_NUM)\n",
    "                \n",
    "                if ave_acc_z is None:\n",
    "                    continue\n",
    "                \n",
    "                yield intdash.Unit(\n",
    "                      elapsed_time = unit.elapsed_time,\n",
    "                      channel = 1,\n",
    "                      data = intdash.data.Float(data_id = 'sp_ACCZ', value =ave_acc_z ),\n",
    "                    )\n",
    "                \n",
    "                continue\n",
    "                \n",
    "        except queue.Empty:\n",
    "            yield"
   ]
  },
  {
   "cell_type": "markdown",
   "metadata": {},
   "source": [
    "## ストリーム処理を開始する"
   ]
  },
  {
   "cell_type": "code",
   "execution_count": 12,
   "metadata": {},
   "outputs": [],
   "source": [
    "wsconn = client.connect_websocket()"
   ]
  },
  {
   "cell_type": "markdown",
   "metadata": {},
   "source": [
    "### Upstreamを開始する"
   ]
  },
  {
   "cell_type": "code",
   "execution_count": 13,
   "metadata": {},
   "outputs": [],
   "source": [
    "wsconn.open_upstreams(\n",
    "    specs = u_specs,\n",
    "    iterators = [upload_func()],\n",
    ")"
   ]
  },
  {
   "cell_type": "markdown",
   "metadata": {},
   "source": [
    "### Downstreamを開始する"
   ]
  },
  {
   "cell_type": "code",
   "execution_count": 14,
   "metadata": {},
   "outputs": [],
   "source": [
    "wsconn.open_downstreams(\n",
    "    specs = d_specs,\n",
    "    callbacks = [callback],\n",
    ")"
   ]
  },
  {
   "cell_type": "markdown",
   "metadata": {},
   "source": [
    "##  切断する\n",
    "処理を終了したい場合、必ず以下を実行し切断処理をおこなってください。"
   ]
  },
  {
   "cell_type": "code",
   "execution_count": 15,
   "metadata": {},
   "outputs": [],
   "source": [
    "wsconn.close()"
   ]
  },
  {
   "cell_type": "markdown",
   "metadata": {},
   "source": [
    "## Visual M2M Data Visualizer でデータを確認する\n",
    "**Visual M2M Data Visualizer** を使用すると、リアルタイムでデータの通信が行われていることが確認できます。本notebookと同じディレクトリに保存されている 「SCREENファイル(.scrn)」 と「DATファイル(.dat)」を **Visual M2M Data Visualizer** にインポートすると、以下のようにデータを確認することができます。  (詳細は **Visual M2M Data Visualizer** の操作マニュアルを確認してください。)\n",
    " \n",
    " \n",
    "以下の画面では、`Acceleration raw` パネルに変換前のデータ(Motionアプリが送信しているデータ)が表示され、 `Acceleration Converted` パネルに `intdash-py` を使って計算した移動平均が表示されています。"
   ]
  },
  {
   "cell_type": "markdown",
   "metadata": {},
   "source": [
    "<img src=\"https://github.com/aptpod/intdash-py-samples/blob/master/img/img3.png?raw=true\">"
   ]
  }
 ],
 "metadata": {
  "kernelspec": {
   "display_name": "Python 3",
   "language": "python",
   "name": "python3"
  },
  "language_info": {
   "codemirror_mode": {
    "name": "ipython",
    "version": 3
   },
   "file_extension": ".py",
   "mimetype": "text/x-python",
   "name": "python",
   "nbconvert_exporter": "python",
   "pygments_lexer": "ipython3",
   "version": "3.9.0"
  }
 },
 "nbformat": 4,
 "nbformat_minor": 4
}
